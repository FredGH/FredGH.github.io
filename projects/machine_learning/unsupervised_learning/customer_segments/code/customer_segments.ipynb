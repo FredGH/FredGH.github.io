{
 "cells": [
  {
   "cell_type": "markdown",
   "metadata": {},
   "source": [
    "# Creating Customer Segments"
   ]
  },
  {
   "cell_type": "markdown",
   "metadata": {},
   "source": [
    "In this project you, will analyze a dataset containing annual spending amounts for internal structure, to understand the variation in the different types of customers that a wholesale distributor interacts with.\n",
    "\n",
    "Instructions:\n",
    "\n",
    "- Run each code block below by pressing **Shift+Enter**, making sure to implement any steps marked with a TODO.\n",
    "- Answer each question in the space provided by editing the blocks labeled \"Answer:\".\n",
    "- When you are done, submit the completed notebook (.ipynb) with all code blocks executed, as well as a .pdf version (File > Download as)."
   ]
  },
  {
   "cell_type": "code",
   "execution_count": 1,
   "metadata": {
    "collapsed": false
   },
   "outputs": [
    {
     "name": "stdout",
     "output_type": "stream",
     "text": [
      "Dataset has 440 rows, 6 columns\n",
      "   Fresh  Milk  Grocery  Frozen  Detergents_Paper  Delicatessen\n",
      "0  12669  9656     7561     214              2674          1338\n",
      "1   7057  9810     9568    1762              3293          1776\n",
      "2   6353  8808     7684    2405              3516          7844\n",
      "3  13265  1196     4221    6404               507          1788\n",
      "4  22615  5410     7198    3915              1777          5185\n",
      "\n",
      "***********************************\n",
      "Variance Calculations and plotting\n",
      "***********************************\n"
     ]
    },
    {
     "data": {
      "text/html": [
       "<div>\n",
       "<table border=\"1\" class=\"dataframe\">\n",
       "  <thead>\n",
       "    <tr style=\"text-align: right;\">\n",
       "      <th></th>\n",
       "      <th>Variance</th>\n",
       "    </tr>\n",
       "  </thead>\n",
       "  <tbody>\n",
       "    <tr>\n",
       "      <th>Delicatessen</th>\n",
       "      <td>7.934923e+06</td>\n",
       "    </tr>\n",
       "    <tr>\n",
       "      <th>Detergents_Paper</th>\n",
       "      <td>2.268077e+07</td>\n",
       "    </tr>\n",
       "    <tr>\n",
       "      <th>Fresh</th>\n",
       "      <td>1.595914e+08</td>\n",
       "    </tr>\n",
       "    <tr>\n",
       "      <th>Frozen</th>\n",
       "      <td>2.351429e+07</td>\n",
       "    </tr>\n",
       "    <tr>\n",
       "      <th>Grocery</th>\n",
       "      <td>9.010485e+07</td>\n",
       "    </tr>\n",
       "    <tr>\n",
       "      <th>Milk</th>\n",
       "      <td>5.434617e+07</td>\n",
       "    </tr>\n",
       "  </tbody>\n",
       "</table>\n",
       "</div>"
      ],
      "text/plain": [
       "                      Variance\n",
       "Delicatessen      7.934923e+06\n",
       "Detergents_Paper  2.268077e+07\n",
       "Fresh             1.595914e+08\n",
       "Frozen            2.351429e+07\n",
       "Grocery           9.010485e+07\n",
       "Milk              5.434617e+07"
      ]
     },
     "execution_count": 1,
     "metadata": {},
     "output_type": "execute_result"
    },
    {
     "data": {
      "image/png": "[encoded data removed]",
      "text/plain": [
       "<matplotlib.figure.Figure at 0x9f228f0>"
      ]
     },
     "metadata": {},
     "output_type": "display_data"
    }
   ],
   "source": [
    "# Import libraries: NumPy, pandas, matplotlib\n",
    "import numpy as np\n",
    "import pandas as pd\n",
    "import matplotlib.pyplot as plt\n",
    "\n",
    "# Tell iPython to include plots inline in the notebook\n",
    "%matplotlib inline\n",
    "\n",
    "# Read dataset\n",
    "data = pd.read_csv(\"wholesale-customers.csv\")\n",
    "print \"Dataset has {} rows, {} columns\".format(*data.shape)\n",
    "print data.head()  # print the first 5 rows\n",
    "\n",
    "# Variance Calculations\n",
    "print \"\"\n",
    "print \"***********************************\"\n",
    "print \"Variance Calculations and plotting\"\n",
    "print \"***********************************\"\n",
    "d = {'Fresh' : np.nanvar(data['Fresh']),\n",
    "     'Milk' : np.nanvar(data['Milk']),\n",
    "     'Grocery' : np.nanvar(data['Grocery']),\n",
    "     'Frozen' : np.nanvar(data['Frozen']),\n",
    "     'Detergents_Paper' : np.nanvar(data['Detergents_Paper']),\n",
    "     'Delicatessen' : np.nanvar(data['Delicatessen'])}\n",
    "s = pd.Series(d)\n",
    "df = pd.DataFrame(s,columns=['Variance'])\n",
    "# Variance Graph and table display\n",
    "df.plot(kind='barh')\n",
    "df"
   ]
  },
  {
   "cell_type": "markdown",
   "metadata": {},
   "source": [
    "##Feature Transformation"
   ]
  },
  {
   "cell_type": "markdown",
   "metadata": {},
   "source": [
    "**1)** In this section you will be using PCA and ICA to start to understand the structure of the data. Before doing any computations, what do you think will show up in your computations? List one or two ideas for what might show up as the first PCA dimensions, or what type of vectors will show up as ICA dimensions."
   ]
  },
  {
   "cell_type": "markdown",
   "metadata": {},
   "source": [
    "Answer: \n",
    "\n",
    "PCA seeks to reduce the dimension of the data by finding a few orthogonal linear combinations of the original variables with the largest variance [1].  Therefore, when performing the variance computation, we clearly obtain two main principal components: ‘Fresh’ (with a variance of 1.6+E08) and ‘Grocery’ (with a variance of 9+E07).\n",
    "\n",
    "\n",
    "ICA on the other hands focuses on seeking linear projections, not necessarily orthogonal to each other, that\n",
    "are as nearly statistically independent as possible [1]. Looking at the data, it emerges that Delicatessen is highly correlated to the concepts of Milk, Grocery, Frozen and Fresh. Consequently, the two vectors selected by ICA should be ‘Detergents_Paper’ and ‘Delicatessen’.\n",
    "\n",
    "\n",
    " [1] Imola K. Fodor (June 2002),  A survey of dimension reduction techniques, Lawrence Livermore National Laboratory, UCRL-ID148494, p2 and p6\n"
   ]
  },
  {
   "cell_type": "markdown",
   "metadata": {},
   "source": [
    "###PCA"
   ]
  },
  {
   "cell_type": "code",
   "execution_count": 2,
   "metadata": {
    "collapsed": false
   },
   "outputs": [
    {
     "name": "stdout",
     "output_type": "stream",
     "text": [
      "***********************************\n",
      "Correlation Matrix\n",
      "***********************************\n",
      "                     Fresh      Milk   Grocery    Frozen  Detergents_Paper  \\\n",
      "Fresh             1.000000  0.100510 -0.011854  0.345881         -0.101953   \n",
      "Milk              0.100510  1.000000  0.728335  0.123994          0.661816   \n",
      "Grocery          -0.011854  0.728335  1.000000 -0.040193          0.924641   \n",
      "Frozen            0.345881  0.123994 -0.040193  1.000000         -0.131525   \n",
      "Detergents_Paper -0.101953  0.661816  0.924641 -0.131525          1.000000   \n",
      "Delicatessen      0.244690  0.406368  0.205497  0.390947          0.069291   \n",
      "\n",
      "                  Delicatessen  \n",
      "Fresh                 0.244690  \n",
      "Milk                  0.406368  \n",
      "Grocery               0.205497  \n",
      "Frozen                0.390947  \n",
      "Detergents_Paper      0.069291  \n",
      "Delicatessen          1.000000  \n",
      "\n",
      "***********************************\n",
      "PCA Components\n",
      "***********************************\n",
      "[[-0.97653685 -0.12118407 -0.06154039 -0.15236462  0.00705417 -0.06810471]\n",
      " [-0.11061386  0.51580216  0.76460638 -0.01872345  0.36535076  0.05707921]\n",
      " [-0.17855726  0.50988675 -0.27578088  0.71420037 -0.20440987  0.28321747]\n",
      " [-0.04187648 -0.64564047  0.37546049  0.64629232  0.14938013 -0.02039579]\n",
      " [ 0.015986    0.20323566 -0.1602915   0.22018612  0.20793016 -0.91707659]\n",
      " [-0.01576316  0.03349187  0.41093894 -0.01328898 -0.87128428 -0.26541687]]\n",
      "\n",
      "***********************************\n",
      "PCA Explained Variance Ratio\n",
      "***********************************\n",
      "[ 0.45961362  0.40517227  0.07003008  0.04402344  0.01502212  0.00613848]\n",
      "\n",
      "***********************************\n",
      "Variance Trend by PCA Dimensions\n",
      "***********************************\n"
     ]
    },
    {
     "data": {
      "text/plain": [
       "<matplotlib.text.Text at 0x109f78b0>"
      ]
     },
     "execution_count": 2,
     "metadata": {},
     "output_type": "execute_result"
    },
    {
     "data": {
      "image/png": "[encoded data removed]",
      "text/plain": [
       "<matplotlib.figure.Figure at 0xa858eb0>"
      ]
     },
     "metadata": {},
     "output_type": "display_data"
    }
   ],
   "source": [
    "# TODO: Apply PCA with the same number of dimensions as variables in the dataset\n",
    "from sklearn.decomposition import PCA\n",
    "pca = PCA(n_components=6)\n",
    "pca.fit(data)\n",
    "\n",
    "print \"***********************************\"\n",
    "print \"Correlation Matrix\"\n",
    "print \"***********************************\"\n",
    "df1 = pd.DataFrame(data)\n",
    "print df1.corr()\n",
    "\n",
    "# Print the components and the amount of variance in the data contained in each dimension\n",
    "print \"\"\n",
    "print \"***********************************\"\n",
    "print \"PCA Components\"\n",
    "print \"***********************************\"\n",
    "print pca.components_\n",
    "print \"\"\n",
    "print \"***********************************\"\n",
    "print \"PCA Explained Variance Ratio\"\n",
    "print \"***********************************\"\n",
    "print pca.explained_variance_ratio_\n",
    "print \"\"\n",
    "print \"***********************************\"\n",
    "print \"Variance Trend by PCA Dimensions\"\n",
    "print \"***********************************\"\n",
    "plt.figure(figsize=(11,5))\n",
    "plt.plot(np.arange(1,7),np.cumsum(pca.explained_variance_ratio_))\n",
    "plt.xlabel(\"number of pca components\")\n",
    "plt.ylabel(\"cumulative variance explained by each dimension\")\n",
    "plt.title(\"Variance Trend by PCA Dimensions\")"
   ]
  },
  {
   "cell_type": "markdown",
   "metadata": {},
   "source": [
    "**2)** How quickly does the variance drop off by dimension? If you were to use PCA on this dataset, how many dimensions would you choose for your analysis? Why?"
   ]
  },
  {
   "cell_type": "markdown",
   "metadata": {
    "collapsed": true
   },
   "source": [
    "Answer: \n",
    "\n",
    "When the number of component selected is set to the number of dimensions (i.e. 6), the variance drop off by between the first and the second component, i.e. from  0.46 to 0.40 is relatively small. This is represented  a drop of 13%, calculated as (0.4-0.46)/.46. However, the drop between the second and third component is very large, 82% from 0.4 to 0.07. This is the point of diminishing returns. \n",
    "\n",
    "When the number of component selected is set to the number of dimensions (i.e. 6), two components contain 86% (0.46+0.40) of the variance of the 6 original values. ‘Component 1’ explains 46% of the variation, ‘component  2’ explains 40%, and the rest of the components explain 14% of the variation.  If we assume we want to retain 85% of the variance, then we should reduce the feature set to the first 2 components. \n",
    "\n",
    "This is also shown by the graph above; there is a steep increase of the cumulative variance explained by each dimension (y-axis) until the second PCA component. Then the curve plateaus. "
   ]
  },
  {
   "cell_type": "markdown",
   "metadata": {},
   "source": [
    "**3)** What do the dimensions seem to represent? How can you use this information?"
   ]
  },
  {
   "cell_type": "markdown",
   "metadata": {
    "collapsed": true
   },
   "source": [
    "Answer: \n",
    "\n",
    "‘Component 1’ corresponds to the ‘Fresh’ feature as it represents more than 97% of the variance. ‘Component 2’ corresponds to ‘Milk’, ‘Grocery’ and ‘Detergents_Paper’. They account respectively 51%, 76% and 36% of the variance.\n",
    "\n",
    "This is also shown by the correlation above. The ‘Fresh’ only depends on itself. The  ‘Milk’, ‘Grocery’ and ‘Detergents_Paper’ show high degree of correlation:\n",
    "- ‘Milk & Grocery’ shows a correlation of 73%\n",
    "- ‘Milk & Detergents_Paper ‘shows a correlation of 66%\n",
    "- ‘Detergents_Paper & Grocery ‘shows a correlation of 92%\n",
    "\n",
    "This information is useful as a feature reduction tool (with minimum loss of information) to feed into a machine learning algorithm. By reducing the number of factors, a simpler (and usually faster) machine learning algorithm can be selected.\n"
   ]
  },
  {
   "cell_type": "markdown",
   "metadata": {},
   "source": [
    "###ICA"
   ]
  },
  {
   "cell_type": "code",
   "execution_count": 3,
   "metadata": {
    "collapsed": false
   },
   "outputs": [
    {
     "name": "stdout",
     "output_type": "stream",
     "text": [
      "\n",
      "***********************************\n",
      "Calculate the Mean for each Category and graph\n",
      "***********************************\n",
      "Axes(0.125,0.125;0.775x0.775)\n",
      "\n",
      "***********************************\n",
      "Data with Origin Adjustment\n",
      "***********************************\n",
      "\n",
      "***********************************\n",
      "FastICA\n",
      "***********************************\n",
      "\n",
      "***********************************\n",
      "Component data and plot\n",
      "***********************************\n",
      "[[  3.97599355e-06  -8.59886636e-07  -6.28711730e-07  -6.77060709e-07\n",
      "    2.07067530e-06  -1.04098223e-06]\n",
      " [ -2.10115505e-07   1.88251426e-06  -6.45028663e-06  -4.08141212e-07\n",
      "    8.61829574e-07   1.46521187e-06]\n",
      " [ -1.53807253e-07  -9.84447608e-06   5.81239885e-06   3.63403734e-07\n",
      "   -3.32305393e-06   6.05623018e-06]\n",
      " [ -2.99003233e-07   2.31324193e-06   1.20452467e-05  -1.46364692e-06\n",
      "   -2.82034564e-05  -5.73086477e-06]\n",
      " [ -8.65159287e-07  -1.40577395e-07   7.73992444e-07   1.11462064e-05\n",
      "   -5.54399614e-07  -5.95213935e-06]\n",
      " [  3.86475758e-07   2.19541928e-07   6.00294516e-07   5.22080384e-07\n",
      "   -5.09796428e-07  -1.80924000e-05]]\n"
     ]
    },
    {
     "data": {
      "image/png": "[encoded data removed]",
      "text/plain": [
       "<matplotlib.figure.Figure at 0x10a7fdd0>"
      ]
     },
     "metadata": {},
     "output_type": "display_data"
    },
    {
     "data": {
      "image/png": "[encoded data removed]",
      "text/plain": [
       "<matplotlib.figure.Figure at 0x10b78af0>"
      ]
     },
     "metadata": {},
     "output_type": "display_data"
    }
   ],
   "source": [
    "#Fit an ICA model to the data\n",
    "# Note: Adjust the data to have center at the origin first!\n",
    "print \"\"\n",
    "print \"***********************************\"\n",
    "print \"Calculate the Mean for each Category and graph\"\n",
    "print \"***********************************\"\n",
    "means = {'Fresh' : np.nanmean(data['Fresh']),\n",
    "         'Milk' : np.nanmean(data['Milk']),\n",
    "         'Grocery' : np.nanmean(data['Grocery']),\n",
    "         'Frozen' : np.nanmean(data['Frozen']),\n",
    "         'Detergents_Paper' : np.nanmean(data['Detergents_Paper']),\n",
    "         'Delicatessen' : np.nanmean(data['Delicatessen'])}\n",
    "s_means = pd.Series(means)\n",
    "df_means = pd.DataFrame(s_means,columns=['Mean']).plot.bar()\n",
    "print df_means\n",
    "df_means.plot(kind='barh')\n",
    "\n",
    "print \"\"\n",
    "print \"***********************************\"\n",
    "print \"Data with Origin Adjustment\"\n",
    "print \"***********************************\"\n",
    "columns = ['Fresh','Milk','Grocery','Frozen','Detergents_Paper','Delicatessen']\n",
    "centered = pd.DataFrame(data[columns] - s_means[columns],columns = columns)\n",
    "centered\n",
    "\n",
    "print \"\"\n",
    "print \"***********************************\"\n",
    "print \"FastICA\"\n",
    "print \"***********************************\"\n",
    "from sklearn.decomposition import FastICA\n",
    "ica = FastICA(n_components = 6, random_state=10)\n",
    "ica_transformed = ica.fit_transform(centered)\n",
    "\n",
    "print \"\"\n",
    "print \"***********************************\"\n",
    "print \"Component data and plot\"\n",
    "print \"***********************************\"\n",
    "print ica.components_\n",
    "pd.DataFrame(ica.components_,columns =['Frh','Mlk','Gry','Frz','DP','Dsn']).plot.bar();\n"
   ]
  },
  {
   "cell_type": "markdown",
   "metadata": {},
   "source": [
    "**4)** For each vector in the ICA decomposition, write a sentence or two explaining what sort of object or property it corresponds to. What could these components be used for?"
   ]
  },
  {
   "cell_type": "markdown",
   "metadata": {
    "collapsed": true
   },
   "source": [
    "Answer: \n",
    "\n",
    "Generally, dimensions represent Eigen vectors and the directions along the variation of the data.  The Independent Component Analysis (ICA) attempts to decompose a multivariate signal into independent non-Gaussian signals. It is primarily used to 'untangle 'observed data and calculate source signals which, in varying linear combinations, can make the observed data. In other words, as the absolute value of the elements of the un-mixing matrix increases, the corresponding feature has a strong effect on that component. Therefore the magnitude of the coefficient represents prevalence in that feature. \n",
    "\n",
    "ICA can help transforming the data (i.e. making each component independent) before running machine learning algorithm that requires data independency (e.g. the regression model or the Mixture of Gaussians clustering)\n",
    "\n",
    "For these ICA graph we can state the following:\n",
    "- The ‘Fresh’ dimension (‘0’ on the x-axis) is positively correlated to the ‘Fresh’ feature and 'Detergents_Paper', and negatively correlated to all the other features.\n",
    "- The ‘Milk’ dimension (‘1’ on the x-axis) is positively correlated to the ‘Milk’, 'Detergents_Paper' and ‘Delicatessen’, and negatively correlated to all the other features.\n",
    "- The ‘Grocery’ dimension (‘2’ on the x-axis) is positively correlated to the ‘Grocery’ and  ‘Delicatessen ‘, and negatively correlated to all the other features.\n",
    "- The ‘Frozen’ dimension (‘3’ on the x-axis) is positively correlated to the ‘Milk’,‘Grocery’ and  ‘Grocery’, and negatively correlated to all the other features.\n",
    "- The ‘Detergents_Paper’ dimension (‘4’ on the x-axis) is positively correlated to the ‘Frozen’ and ‘Grocery’, and negatively correlated to all the other features.\n",
    "- The ‘Delicatessen’ dimension (‘5’ on the x-axis) is positively correlated to all but the 'Detergents_Paper' and ‘Delicatessen’\n",
    "\n",
    "Looking at the graph, it looks like the dimensions with the highest positive correlations are the 3rd (‘Frozen’) and 4th (‘Detergents_Paper’) .  The results only agree partially with the PCA.\n",
    "Therefore, this means that including only these two features in the training of the algorithm would account for maximum coverage of the variability in the dataset with a minimum loss of information.\n",
    "\n",
    "Generally, dimensions represent Eigen vectors and the directions along the variation of the data.  The Independent Component Analysis (ICA) attempts to decompose a multivariate signal into independent non-Gaussian signals. It is primarily used to 'untangle 'observed data and calculate source signals which, in varying linear combinations, can make the observed data. In other words, as the absolute value of the elements of the un-mixing matrix increases, the corresponding feature has a strong effect on that component. Therefore the magnitude of the coefficient represents prevalence in that feature. \n",
    "\n",
    "ICA can help transforming the data (i.e. making each component independent) before running machine learning algorithm that requires data independency (e.g. the regression model or the Mixture of Gaussians clustering)"
   ]
  },
  {
   "cell_type": "markdown",
   "metadata": {},
   "source": [
    "##Clustering\n",
    "\n",
    "In this section you will choose either K Means clustering or Gaussian Mixed Models clustering, which implements expectation-maximization. Then you will sample elements from the clusters to understand their significance."
   ]
  },
  {
   "cell_type": "markdown",
   "metadata": {},
   "source": [
    "###Choose a Cluster Type\n",
    "\n",
    "**5)** What are the advantages of using K Means clustering or Gaussian Mixture Models?"
   ]
  },
  {
   "cell_type": "markdown",
   "metadata": {},
   "source": [
    "Answer: \n",
    "\n",
    "i) Choose the Cluster Type:\n",
    "\n",
    "Gaussian mixture models and K-means are two canonical approaches to clustering, i.e. dividing data points into meaningful groups.\n",
    "\n",
    "- K-means works by iteratively reassigning data points to clusters and computing cluster centres based on the \n",
    "   average of the point locations. \n",
    "- K-means has a limited set of parameters corresponding to the number of clusters, where the Mixture of Gaussians \n",
    "  can have many.\n",
    "- K-means is usually used in the following scenarios: as a general-purpose, even cluster size, flat geometry and where \n",
    "  they are not too many clusters.\n",
    "\n",
    "\n",
    "- Gaussians Mixture is a probabilistic model commonly used for clustering: partitioning a set of data points into a set \n",
    "  of clusters, where data points within a cluster are similar to one another. \n",
    "- Gaussians Mixture is not scalable.\n",
    "-  Gaussians Mixture is better at density estimation.\n",
    "- Gaussians Mixture provides structural information, thus it can measure how wide each cluster is, since it works on \n",
    "  probabilities (soft clustering)\n",
    "\n",
    "In summary, K-means is a more simplistic, more scalable and faster algorithm than the Gaussian mixture models, but it is Mixture of Gaussians is better at density estimation.\n",
    "\n",
    "For our scenario, it is important to understand the customer size of customer groups (i.e. clusters) to better predict the impact of shops service changes on the overall profitability. For example, a service change could have a major impact on a group of customers. However, if this group is relatively small and have a small negative profit impact, then the change might be pushed forward (assuming this change has positive effects on the other groups) to increase the overall profit.  Therefore the Gaussians Mixture will be selected as the machine learning algorithm.\n",
    "\n",
    "ii) Decide on K means clustering or Gaussian mixture methods:\n",
    "\n",
    "The choice of cluster numbers has been discovered by the ‘Silhouette score’, as shown in the below graph.\n",
    "The best value is 1 and the worst value is -1. Values near 0 indicate overlapping clusters. Negative values generally indicate that a sample has been assigned to the wrong cluster, as a different cluster is more similar. A higher Silhouette Coefficient score relates to a model with better defined clusters.\n",
    "The highest ‘Silhouette Coefficient’ is 0.51 and is represented by 2 clusters. Adding any extra cluster reduces the ‘Silhouette Coefficient’ (law of diminishing returns).\n"
   ]
  },
  {
   "cell_type": "markdown",
   "metadata": {},
   "source": [
    "**6)** Below is some starter code to help you visualize some cluster data. The visualization is based on [this demo](http://scikit-learn.org/stable/auto_examples/cluster/plot_kmeans_digits.html) from the sklearn documentation."
   ]
  },
  {
   "cell_type": "code",
   "execution_count": 4,
   "metadata": {
    "collapsed": true
   },
   "outputs": [],
   "source": [
    "# Import clustering modules\n",
    "from sklearn.cluster import KMeans\n",
    "from sklearn.mixture import GMM"
   ]
  },
  {
   "cell_type": "code",
   "execution_count": 5,
   "metadata": {
    "collapsed": true
   },
   "outputs": [],
   "source": [
    "# Cluster numbers selections"
   ]
  },
  {
   "cell_type": "code",
   "execution_count": 6,
   "metadata": {
    "collapsed": false
   },
   "outputs": [
    {
     "name": "stdout",
     "output_type": "stream",
     "text": [
      "[0.51153338987790531, 0.47835114307820586, 0.38663137000581971, 0.37097890183482163, 0.38296957586808894]\n"
     ]
    },
    {
     "data": {
      "image/png": "[encoded data removed]",
      "text/plain": [
       "<matplotlib.figure.Figure at 0x1107de10>"
      ]
     },
     "metadata": {},
     "output_type": "display_data"
    }
   ],
   "source": [
    "#Method 1 - Using the Silhouette Coefficient -> A higher Silhouette Coefficient score relates to a model with better defined clusters.\n",
    "def build_silhouette_score_list(cluster_number_list):\n",
    "    from sklearn import metrics\n",
    "\n",
    "    silhouette_score_list = []\n",
    "\n",
    "    for cluster_number in cluster_number_list:\n",
    "        kmeans_model = KMeans(n_clusters=cluster_number, random_state=1).fit(data)\n",
    "        labels = kmeans_model.labels_\n",
    "        score = metrics.silhouette_score(data, labels, metric='euclidean')\n",
    "        silhouette_score_list.append(score)\n",
    "    \n",
    "    return silhouette_score_list\n",
    "\n",
    "cluster_number_list = [2,3,4,5,6]\n",
    "silhouette_score_list = build_silhouette_score_list (cluster_number_list)\n",
    "s_silhouette_score_list = pd.Series(silhouette_score_list)\n",
    "plot = pd.DataFrame(s_silhouette_score_list, columns=[\"Silhouette Score\"]).plot.bar(title=\"Silhouette score for each cluster number\").set_xticklabels( cluster_number_list )\n",
    "print silhouette_score_list"
   ]
  },
  {
   "cell_type": "code",
   "execution_count": 7,
   "metadata": {
    "collapsed": false
   },
   "outputs": [
    {
     "data": {
      "text/plain": [
       "array([[ -2776.91252812,  13546.92151943,  12671.04738588,   7070.20338104,\n",
       "          4375.34067727,    542.8608177 ],\n",
       "       [  2266.17957158,  14470.80363977,  13242.65287037,  10486.72550173,\n",
       "          3960.09275456,    786.77644498],\n",
       "       [  3281.88591669,  12912.06023622,  15738.66649787,   9651.22752937,\n",
       "         -1170.37978763,  -1584.2250788 ],\n",
       "       ..., \n",
       "       [ -9113.53545582,  30241.1939404 ,   9111.22924403,  25692.89594519,\n",
       "          3985.06518922,  -4130.15006476],\n",
       "       [  1259.78887804,   6144.29214581,   9453.21321121,   3740.70756722,\n",
       "          1560.10740708,    830.03776493],\n",
       "       [  8646.7721533 ,   7670.89207658,   8355.17052726,   4554.48888726,\n",
       "          3072.03559565,   1690.28605609]])"
      ]
     },
     "execution_count": 7,
     "metadata": {},
     "output_type": "execute_result"
    }
   ],
   "source": [
    "#Method 2 - Centroids can be comparison.  \n",
    "# Aim: Sample from the clusters to get a better understanding of the distribution of the clusters.\n",
    "# This should help the best cluster number decision. \n",
    "\n",
    "# pca.fit(data)\n",
    "pca.inverse_transform(data)\n",
    "\n",
    "# One technique is to use PCA.inverse_transform() to take the centroids and use the PCA model to bring \n",
    "# the centroids into the original dimensions. \n",
    "# Then the centroids can be compared. \n",
    "# Also making a bar chart of the centroids in the original dimensions could be very helpful for comparing the \n",
    "# centroids to each other and looking for patterns."
   ]
  },
  {
   "cell_type": "code",
   "execution_count": 8,
   "metadata": {
    "collapsed": false
   },
   "outputs": [
    {
     "name": "stdout",
     "output_type": "stream",
     "text": [
      "[[  -650.02212207   1585.51909007]\n",
      " [  4426.80497937   4042.45150884]\n",
      " [  4841.9987068    2578.762176  ]\n",
      " [  -990.34643689  -6279.80599663]\n",
      " [-10657.99873116  -2159.72581518]\n",
      " [  2765.96159271   -959.87072713]\n",
      " [   715.55089221  -2013.00226567]\n",
      " [  4474.58366697   1429.49697204]\n",
      " [  6712.09539718  -2205.90915598]\n",
      " [  4823.63435407  13480.55920489]]\n"
     ]
    }
   ],
   "source": [
    "# First we reduce the data to two dimensions using PCA to capture variation\n",
    "pca_2 = PCA(n_components=2)\n",
    "reduced_data =  pca_2.fit_transform(data)\n",
    "print reduced_data[:10]  # print upto 10 elements"
   ]
  },
  {
   "cell_type": "code",
   "execution_count": 9,
   "metadata": {
    "collapsed": false
   },
   "outputs": [
    {
     "name": "stdout",
     "output_type": "stream",
     "text": [
      "GMM(covariance_type='diag', init_params='wmc', min_covar=0.001,\n",
      "  n_components=2, n_init=1, n_iter=100, params='wmc', random_state=None,\n",
      "  thresh=None, tol=0.001, verbose=0)\n"
     ]
    }
   ],
   "source": [
    "# Implement the clustering algorithm here, and fit it to the reduced data for visualization\n",
    "# The visualizer below assumes your clustering object is named 'clusters'\n",
    "gmm = GMM(n_components=2)\n",
    "clusters = gmm.fit(reduced_data)\n",
    "\n",
    "print clusters\n"
   ]
  },
  {
   "cell_type": "code",
   "execution_count": 10,
   "metadata": {
    "collapsed": false
   },
   "outputs": [],
   "source": [
    "# Plot the decision boundary by building a mesh grid to populate a graph.\n",
    "x_min, x_max = reduced_data[:, 0].min() - 1, reduced_data[:, 0].max() + 1\n",
    "y_min, y_max = reduced_data[:, 1].min() - 1, reduced_data[:, 1].max() + 1\n",
    "hx = (x_max-x_min)/1000.\n",
    "hy = (y_max-y_min)/1000.\n",
    "xx, yy = np.meshgrid(np.arange(x_min, x_max, hx), np.arange(y_min, y_max, hy))\n",
    "\n",
    "# Obtain labels for each point in mesh. Use last trained model.\n",
    "Z = clusters.predict(np.c_[xx.ravel(), yy.ravel()])"
   ]
  },
  {
   "cell_type": "code",
   "execution_count": 11,
   "metadata": {
    "collapsed": false
   },
   "outputs": [
    {
     "name": "stdout",
     "output_type": "stream",
     "text": [
      "[[  3308.39301792  -3017.01739698]\n",
      " [-10810.23008886   9858.15532401]]\n"
     ]
    }
   ],
   "source": [
    "# Find the centroids for KMeans or the cluster means for GMM \n",
    "centroids = gmm.means_ \n",
    "print centroids"
   ]
  },
  {
   "cell_type": "code",
   "execution_count": 12,
   "metadata": {
    "collapsed": false
   },
   "outputs": [
    {
     "data": {
      "image/png": "[encoded data removed]",
      "text/plain": [
       "<matplotlib.figure.Figure at 0x111937d0>"
      ]
     },
     "metadata": {},
     "output_type": "display_data"
    }
   ],
   "source": [
    "# Put the result into a color plot\n",
    "Z = Z.reshape(xx.shape)\n",
    "plt.figure(1)\n",
    "plt.clf()\n",
    "plt.imshow(Z, interpolation='nearest',\n",
    "           extent=(xx.min(), xx.max(), yy.min(), yy.max()),\n",
    "           cmap=plt.cm.Paired,\n",
    "           aspect='auto', origin='lower')\n",
    "\n",
    "plt.plot(reduced_data[:, 0], reduced_data[:, 1], 'k.', markersize=2)\n",
    "plt.scatter(centroids[:, 0], centroids[:, 1],\n",
    "            marker='x', s=169, linewidths=3,\n",
    "            color='w', zorder=10)\n",
    "plt.title('Clustering on the wholesale grocery dataset (PCA-reduced data)\\n'\n",
    "          'Centroids are marked with white cross')\n",
    "plt.xlim(x_min, x_max)\n",
    "plt.ylim(y_min, y_max)\n",
    "plt.xticks(())\n",
    "plt.yticks(())\n",
    "plt.show()"
   ]
  },
  {
   "cell_type": "markdown",
   "metadata": {},
   "source": [
    "**7)** What are the central objects in each cluster? Describe them as customers."
   ]
  },
  {
   "cell_type": "markdown",
   "metadata": {
    "collapsed": true
   },
   "source": [
    "Answer: \n",
    "\n",
    "Central objects in each cluster represent the centroids. They represent the \"average\" customer in that grouping.\n",
    "\n",
    "The graph above shows two distinct data clusters. This means there are two groups of customers that have different consuming patterns. This is shown by the fact that one of the group of consumer (in light brown) is concentrated around its centroid, whereas the second group (in blue) is more sparsely allocated around its centroid.\n",
    "This certainly means brown cluster represents small family run shops, whereas the blue cluster represents large volume customers.\n",
    "\n",
    "Some of the clusters are not very well distinguished, for example in the middle section of the ‘brown’ area.  We could make them appear by increase the cluster number. But this would bear the risk of increasing overfitting."
   ]
  },
  {
   "cell_type": "markdown",
   "metadata": {},
   "source": [
    "###Conclusions\n",
    "\n",
    "** 8)** Which of these techniques did you feel gave you the most insight into the data?"
   ]
  },
  {
   "cell_type": "markdown",
   "metadata": {
    "collapsed": true
   },
   "source": [
    "Answer: \n",
    "\n",
    "PCA provided with a very clear insight on the main features impacting the model.   \n",
    "K-means enabled the bucketing of the customers into their respective market segments and thus facilitates better business decision making."
   ]
  },
  {
   "cell_type": "markdown",
   "metadata": {
    "collapsed": true
   },
   "source": [
    "**9)** How would you use that technique to help the company design new experiments?"
   ]
  },
  {
   "cell_type": "markdown",
   "metadata": {},
   "source": [
    "Answer: \n",
    "\n",
    "One popular technique would be to run an AB test. It directly compares a variation against a current experience. The analyst can then produce focused questions about changes to the domain, and then collects data about the impact of that change. \n",
    "\n",
    "In our case, the following steps could be defined:\n",
    " - To create a control and experiment group within the market segments. As different retailer \n",
    "   sizes provide different customer experience.\n",
    " - And calculate the p-value for to accept/reject predefined hypotesis relating to consumer \n",
    "   pattern given a type of retail premise (e.g. large or small). \n",
    "\n",
    "Based on the result of this analysis, a marketing strategy could be put in place to safisfy the different customer segments.\n"
   ]
  },
  {
   "cell_type": "markdown",
   "metadata": {},
   "source": [
    "**10)** How would you use that data to help you predict future customer needs?"
   ]
  },
  {
   "cell_type": "markdown",
   "metadata": {},
   "source": [
    "Answer: \n",
    "\n",
    "By defining customer segments, it is now possible to we can run different tests (e.g. regression) to improve  profit margin and target the supply products of interest to the particular segments. \n",
    "\n",
    "The clustering produces labels that could be fed into supervised model to predict the customer pattern based on this classification. This could prove useful for the launch of a new shop in a new area.\n"
   ]
  },
  {
   "cell_type": "code",
   "execution_count": null,
   "metadata": {
    "collapsed": true
   },
   "outputs": [],
   "source": []
  }
 ],
 "metadata": {
  "kernelspec": {
   "display_name": "Python 2",
   "language": "python",
   "name": "python2"
  },
  "language_info": {
   "codemirror_mode": {
    "name": "ipython",
    "version": 2
   },
   "file_extension": ".py",
   "mimetype": "text/x-python",
   "name": "python",
   "nbconvert_exporter": "python",
   "pygments_lexer": "ipython2",
   "version": "2.7.10"
  }
 },
 "nbformat": 4,
 "nbformat_minor": 0
}
