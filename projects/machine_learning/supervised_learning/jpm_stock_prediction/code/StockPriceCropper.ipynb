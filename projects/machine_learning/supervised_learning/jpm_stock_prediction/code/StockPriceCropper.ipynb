{
 "cells": [
  {
   "cell_type": "markdown",
   "metadata": {},
   "source": [
    "\n",
    "# Aim\n",
    "This aim of this code is to download the price/volume information for the JPM stock, using the yahoo API. It is dependents on the following libraries:\n",
    "- matplotlib 1.5.3\n",
    "- numpy 1.11.1\n",
    "- pandas 0.18.1\n",
    "- tabulate 0.7.7\n",
    "- urllib v.xxx\n",
    "- scipy v.xxx\n",
    "- scrapy v1.1.1\n",
    "\n",
    "# Data Source \n",
    "The stock price is sources from Yahoo, via their free API.  "
   ]
  },
  {
   "cell_type": "markdown",
   "metadata": {},
   "source": [
    "# Library Loading, Account settings & Extras... \n",
    "Loading libraries is required as ....  "
   ]
  },
  {
   "cell_type": "code",
   "execution_count": 5,
   "metadata": {
    "collapsed": false
   },
   "outputs": [
    {
     "name": "stdout",
     "output_type": "stream",
     "text": [
      "Start Loading Libraries\n",
      "End Loading Libraries\n",
      "\n",
      "Start Ignore Warnings\n",
      "End Ignore Warnings\n"
     ]
    }
   ],
   "source": [
    "print(\"Start Loading Libraries\")\n",
    "import csv\n",
    "import matplotlib.pyplot as plt\n",
    "import numpy as np\n",
    "import pandas as pd\n",
    "import os\n",
    "import os.path\n",
    "import requests\n",
    "import urllib\n",
    "\n",
    "from bs4 import BeautifulSoup\n",
    "from tabulate import tabulate\n",
    "from urllib.request import urlretrieve\n",
    "print(\"End Loading Libraries\")\n",
    "\n",
    "print(\"\")\n",
    "print(\"Start Ignore Warnings\")\n",
    "import warnings\n",
    "warnings.filterwarnings('ignore')\n",
    "print(\"End Ignore Warnings\")"
   ]
  },
  {
   "cell_type": "markdown",
   "metadata": {},
   "source": [
    "## Stock Prices Cropper Functions"
   ]
  },
  {
   "cell_type": "code",
   "execution_count": 6,
   "metadata": {
    "collapsed": false
   },
   "outputs": [
    {
     "name": "stdout",
     "output_type": "stream",
     "text": [
      "Start Stock Prices Cropper Functions\n",
      "End Stock Prices Cropper Functions\n"
     ]
    }
   ],
   "source": [
    "print (\"Start Stock Prices Cropper Functions\")\n",
    "\n",
    "base_url = \"http://ichart.finance.yahoo.com/table.csv?s=\"\n",
    "input_path = output_path = os.getcwd()\n",
    "\n",
    "#Create the directory, if it does not exist\n",
    "def mkdir(directory_full_path):\n",
    "    if not os.path.exists(directory_full_path):\n",
    "        os.makedirs(directory_full_path)\n",
    "\n",
    "#Generate the full URL basd on the base_url and the ticker name (e.g. JPM)\n",
    "def make_url(ticker_symbol):\n",
    "    return base_url + ticker_symbol\n",
    "\n",
    "#Returns the directory output name as well as the full file path\n",
    "def make_output_filename(ticker_symbol, directory=\"Unknown\"):\n",
    "    return output_path + \"/\" + directory + \"/\", output_path + \"/\" + directory + \"/\" + ticker_symbol + \".csv\"\n",
    "    \n",
    "def pull_historical_data(ticker_symbol, directory=\"Unknown\"):\n",
    "    try:\n",
    "        #Generate the output directory and full path for the stock file name (e.g. ./JPM.csv)\n",
    "        directory_full_path, file_full_path = make_output_filename(ticker_symbol, directory)\n",
    "        #Generate the full URL\n",
    "        ticker_url = make_url(ticker_symbol)\n",
    "        #Make the directory if it does not exist\n",
    "        mkdir(directory_full_path)\n",
    "        #Get the data from the url and store it in the defined file path  \n",
    "        urlretrieve(ticker_url, file_full_path)\n",
    "    except Exception as e: # catch *all* exceptions\n",
    "        directory_full_path, file_full_path = make_output_filename(ticker_symbol, directory)\n",
    "        outfile = open(file_full_path, \"w\")\n",
    "        print(e)\n",
    "        outfile.write(str(e))\n",
    "        outfile.close()\n",
    "print (\"End Stock Prices Cropper Functions\")"
   ]
  },
  {
   "cell_type": "markdown",
   "metadata": {},
   "source": [
    "# Run Stock Prices Cropper...\n",
    "\n",
    "The data is sourced for free from Yahoo, via the Yahoo API."
   ]
  },
  {
   "cell_type": "code",
   "execution_count": 8,
   "metadata": {
    "collapsed": false
   },
   "outputs": [
    {
     "name": "stdout",
     "output_type": "stream",
     "text": [
      "Start Cropping...\n",
      "End Cropping...\n"
     ]
    }
   ],
   "source": [
    "print (\"Start Cropping...\")\n",
    "#Get the JPM historical data from beg of time....\n",
    "pull_historical_data ('JPM', \"\")\n",
    "print (\"End Cropping...\")"
   ]
  },
  {
   "cell_type": "code",
   "execution_count": null,
   "metadata": {
    "collapsed": true
   },
   "outputs": [],
   "source": []
  }
 ],
 "metadata": {
  "anaconda-cloud": {},
  "kernelspec": {
   "display_name": "Python [default]",
   "language": "python",
   "name": "python3"
  },
  "language_info": {
   "codemirror_mode": {
    "name": "ipython",
    "version": 3
   },
   "file_extension": ".py",
   "mimetype": "text/x-python",
   "name": "python",
   "nbconvert_exporter": "python",
   "pygments_lexer": "ipython3",
   "version": "3.5.2"
  }
 },
 "nbformat": 4,
 "nbformat_minor": 0
}
