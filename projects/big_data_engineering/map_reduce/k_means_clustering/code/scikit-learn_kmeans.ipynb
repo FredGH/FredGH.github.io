{
 "cells": [
  {
   "cell_type": "code",
   "execution_count": 3,
   "metadata": {
    "collapsed": false
   },
   "outputs": [
    {
     "name": "stdout",
     "output_type": "stream",
     "text": [
      "Libraries load success\n"
     ]
    }
   ],
   "source": [
    "from sklearn.cluster import KMeans\n",
    "import numpy as np\n",
    "import matplotlib.pyplot as plt\n",
    "print(\"Libraries load success\")"
   ]
  },
  {
   "cell_type": "code",
   "execution_count": 5,
   "metadata": {
    "collapsed": false
   },
   "outputs": [
    {
     "name": "stdout",
     "output_type": "stream",
     "text": [
      "Shared function success\n"
     ]
    }
   ],
   "source": [
    "#Generate the cluster graph\n",
    "def k_means_graph(centroids): \n",
    "    #Step size of the mesh.\n",
    "    h = .02 \n",
    "    x_min, x_max = coords[:, 0].min() - 0.25, coords[:, 0].max() + 0.25\n",
    "    y_min, y_max = coords[:, 1].min() - 0.25, coords[:, 1].max() + 0.25\n",
    "    xx, yy = np.meshgrid(np.arange(x_min, x_max, h), np.arange(y_min, y_max, h))\n",
    "\n",
    "    # Obtain labels for each point in mesh.\n",
    "    Z = kmeans.predict(np.c_[xx.ravel(), yy.ravel()])\n",
    "    # Put the result into a color plot\n",
    "    Z = Z.reshape(xx.shape)\n",
    "\n",
    "    plt.imshow(Z,  interpolation='nearest',\n",
    "                   extent=(xx.min(), xx.max(), yy.min(), yy.max()),\n",
    "                   cmap=plt.cm.Paired,\n",
    "                   aspect='auto', origin='lower')\n",
    "\n",
    "\n",
    "    plt.scatter(coords[:, 0], coords[:, 1],  color='b', )\n",
    "    plt.scatter(centroids[:, 0], centroids[:, 1], marker='x',  color='w', s=50, linewidths=2)\n",
    "\n",
    "    #plt.scatter(centroids[:, 0], centroids[:, 1])\n",
    "    plt.title('K-means clustering on the coordinates dataset (k=3)\\n'\n",
    "          'Centroids are marked with white cross')\n",
    "    plt.xlim(x_min, x_max)\n",
    "    plt.ylim(y_min, y_max)\n",
    "    plt.show()\n",
    "\n",
    "#Produce the centroids for a given cluster number, an intial array of clusters and a number of iterations\n",
    "def produce_centroids(p_n_clusters, p_init, p_max_iter):\n",
    "    kmeans = KMeans(n_clusters=p_n_clusters, init=p_init, max_iter=p_max_iter).fit(coords)\n",
    "    #Three clusters are being used\n",
    "    centroids = kmeans.cluster_centers_\n",
    "    print(\"The cluster centers for clusters= \" +  str (p_n_clusters) + \" and max_iter= \" + str (p_max_iter))\n",
    "    print(centroids)\n",
    "    return kmeans, centroids       \n",
    "    \n",
    "print(\"Shared function success\")"
   ]
  },
  {
   "cell_type": "code",
   "execution_count": 10,
   "metadata": {
    "collapsed": false
   },
   "outputs": [
    {
     "name": "stderr",
     "output_type": "stream",
     "text": [
      "C:\\Program Files\\Anaconda3\\lib\\site-packages\\sklearn\\cluster\\k_means_.py:889: RuntimeWarning: Explicit initial center position passed: performing only one init in k-means instead of n_init=10\n",
      "  return_n_iter=True)\n"
     ]
    },
    {
     "name": "stdout",
     "output_type": "stream",
     "text": [
      "The cluster centers for clusters= 3 and max_iter= 1\n",
      "[[ 0.20198948  0.18973645]\n",
      " [ 0.96172426  0.8243381 ]\n",
      " [ 0.66127243  0.65832504]]\n",
      "The cluster centers for clusters= 3 and max_iter= 2\n",
      "[[ 0.20030222  0.18635814]\n",
      " [ 0.896381    0.82655273]\n",
      " [ 0.64757489  0.64807195]]\n",
      "The cluster centers for clusters= 3 and max_iter= 3\n",
      "[[ 0.20030222  0.18635814]\n",
      " [ 0.88061428  0.80540784]\n",
      " [ 0.64379772  0.64645514]]\n",
      "The cluster centers for clusters= 3 and max_iter= 4\n",
      "[[ 0.20030222  0.18635814]\n",
      " [ 0.84418909  0.75423336]\n",
      " [ 0.62868944  0.64218098]]\n",
      "The cluster centers for clusters= 3 and max_iter= 5\n",
      "[[ 0.20030222  0.18635814]\n",
      " [ 0.84595376  0.7101183 ]\n",
      " [ 0.61714045  0.64887742]]\n",
      "The cluster centers for clusters= 3 and max_iter= 6\n",
      "[[ 0.20030222  0.18635814]\n",
      " [ 0.8423395   0.69028394]\n",
      " [ 0.61226039  0.6535293 ]]\n",
      "The cluster centers for clusters= 3 and max_iter= 7\n",
      "[[ 0.20030222  0.18635814]\n",
      " [ 0.8423395   0.69028394]\n",
      " [ 0.61226039  0.6535293 ]]\n",
      "The cluster centers for clusters= 3 and max_iter= 8\n",
      "[[ 0.20030222  0.18635814]\n",
      " [ 0.8423395   0.69028394]\n",
      " [ 0.61226039  0.6535293 ]]\n",
      "The cluster centers for clusters= 3 and max_iter= 9\n",
      "[[ 0.20030222  0.18635814]\n",
      " [ 0.8423395   0.69028394]\n",
      " [ 0.61226039  0.6535293 ]]\n",
      "The cluster centers for clusters= 3 and max_iter= 10\n",
      "[[ 0.20030222  0.18635814]\n",
      " [ 0.8423395   0.69028394]\n",
      " [ 0.61226039  0.6535293 ]]\n"
     ]
    },
    {
     "data": {
      "image/png": "[encoded data removed]",
      "text/plain": [
       "<matplotlib.figure.Figure at 0x2941e56ca90>"
      ]
     },
     "metadata": {},
     "output_type": "display_data"
    },
    {
     "name": "stdout",
     "output_type": "stream",
     "text": [
      "Main body success\n"
     ]
    }
   ],
   "source": [
    "CLUSTERS_FILENAME = \"clusters_sklearn.txt\"\n",
    "DATA_FILENAME = \"data.txt\"\n",
    "\n",
    "#Load the initial clusters into an array\n",
    "initial_custers = np.loadtxt(CLUSTERS_FILENAME, dtype=np.float)\n",
    "#Load the data into an array\n",
    "coords = np.loadtxt(DATA_FILENAME, dtype=np.float)\n",
    "#Generate the centroids for different iteration\n",
    "kmeans, centroids = produce_centroids(3,initial_custers,1)\n",
    "kmeans, centroids = produce_centroids(3,initial_custers,2)\n",
    "kmeans, centroids = produce_centroids(3,initial_custers,3)\n",
    "kmeans, centroids = produce_centroids(3,initial_custers,4)\n",
    "kmeans, centroids = produce_centroids(3,initial_custers,5)\n",
    "kmeans, centroids = produce_centroids(3,initial_custers,6)\n",
    "kmeans, centroids = produce_centroids(3,initial_custers,7)\n",
    "kmeans, centroids = produce_centroids(3,initial_custers,8)\n",
    "kmeans, centroids = produce_centroids(3,initial_custers,9)\n",
    "kmeans, centroids = produce_centroids(3,initial_custers,10)\n",
    "k_means_graph(centroids)\n",
    "\n",
    "print(\"Main body success\")\n"
   ]
  },
  {
   "cell_type": "code",
   "execution_count": null,
   "metadata": {
    "collapsed": true
   },
   "outputs": [],
   "source": []
  },
  {
   "cell_type": "code",
   "execution_count": null,
   "metadata": {
    "collapsed": true
   },
   "outputs": [],
   "source": []
  }
 ],
 "metadata": {
  "anaconda-cloud": {},
  "kernelspec": {
   "display_name": "Python [default]",
   "language": "python",
   "name": "python3"
  },
  "language_info": {
   "codemirror_mode": {
    "name": "ipython",
    "version": 3
   },
   "file_extension": ".py",
   "mimetype": "text/x-python",
   "name": "python",
   "nbconvert_exporter": "python",
   "pygments_lexer": "ipython3",
   "version": "3.5.2"
  }
 },
 "nbformat": 4,
 "nbformat_minor": 0
}
